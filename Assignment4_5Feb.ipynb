{
 "cells": [
  {
   "cell_type": "code",
   "execution_count": 11,
   "id": "d6833a0a-83a6-402b-8f9f-46ae41c2e9a7",
   "metadata": {},
   "outputs": [],
   "source": [
    "# Q1. Explain Class and Object with respect to Object-Oriented Programming. Give a suitable example.\n",
    "\n",
    "\"\"\"Class is simply the classification of real world entity(blueprint / skeleton) . Objects are the variables of class .\n",
    "Inside class their is either data/property  or their is function.\n",
    "In simple language class is one set of rules and object follow these rules \"\"\" \n",
    "\n",
    "class test :\n",
    "    def __init__(self , name , phone_number):\n",
    "        self.name = name\n",
    "        self.phone_number = phone_number\n",
    "    def return_details(self):\n",
    "        return self.name , self.phone_number\n",
    "        "
   ]
  },
  {
   "cell_type": "code",
   "execution_count": 12,
   "id": "7cbb4c14-534c-4dd9-ab06-b8991af5942b",
   "metadata": {},
   "outputs": [],
   "source": [
    "rohan = test(\"Rohan\" ,12345 )"
   ]
  },
  {
   "cell_type": "code",
   "execution_count": 13,
   "id": "e21da60f-067f-485f-99c7-660b42e5dd04",
   "metadata": {},
   "outputs": [
    {
     "data": {
      "text/plain": [
       "('Rohan', 12345)"
      ]
     },
     "execution_count": 13,
     "metadata": {},
     "output_type": "execute_result"
    }
   ],
   "source": [
    "rohan.return_details()"
   ]
  },
  {
   "cell_type": "code",
   "execution_count": null,
   "id": "841fe246-69a5-4851-a431-e947d088995e",
   "metadata": {},
   "outputs": [],
   "source": []
  },
  {
   "cell_type": "code",
   "execution_count": 14,
   "id": "4cde53e2-8e0c-4d9a-86fb-ccb845e2d8db",
   "metadata": {},
   "outputs": [
    {
     "data": {
      "text/plain": [
       "\"The four pillars of Object-Oriented Programming (OOP) are:\\n\\n1. **Encapsulation:** Encapsulation is the concept of bundling the data (attributes) and the methods (functions) that operate on that data into a \\nsingle unit called a class. It helps in hiding the internal details of an object and exposing only what is necessary, thus providing data protection \\nand preventing unintended access or modification of the object's state.\\n\\n2. **Inheritance:** Inheritance is a mechanism that allows a new class (subclass or derived class) to inherit properties and behaviors \\n(attributes and methods) from an existing class (base class or superclass). It promotes code reuse and the creation of a hierarchy of classes with \\nshared characteristics.\\n\\n3. **Polymorphism:** Polymorphism means the ability of objects of different classes to respond to the same method or message in a way that is\\nappropriate for their class. It allows you to write more generic code that can work with objects of multiple classes, promoting flexibility and \\nextensibility.\\n\\n4. **Abstraction:** Abstraction is the process of simplifying complex reality by modeling classes based on the essential characteristics of objects, \\nwhile ignoring irrelevant details. It involves defining abstract classes and methods that serve as templates for concrete implementations. \\nAbstraction helps in managing complexity and focusing on the essential aspects of a problem domain.\\n\\nThese four pillars form the foundation of object-oriented programming and are essential for creating modular, maintainable, and reusable code.\\n\\n\""
      ]
     },
     "execution_count": 14,
     "metadata": {},
     "output_type": "execute_result"
    }
   ],
   "source": [
    "# Q2. Name the four pillars of OOPs.\n",
    "\"\"\"The four pillars of Object-Oriented Programming (OOP) are:\n",
    "\n",
    "1. **Encapsulation:** Encapsulation is the concept of bundling the data (attributes) and the methods (functions) that operate on that data into a \n",
    "single unit called a class. It helps in hiding the internal details of an object and exposing only what is necessary, thus providing data protection \n",
    "and preventing unintended access or modification of the object's state.\n",
    "\n",
    "2. **Inheritance:** Inheritance is a mechanism that allows a new class (subclass or derived class) to inherit properties and behaviors \n",
    "(attributes and methods) from an existing class (base class or superclass). It promotes code reuse and the creation of a hierarchy of classes with \n",
    "shared characteristics.\n",
    "\n",
    "3. **Polymorphism:** Polymorphism means the ability of objects of different classes to respond to the same method or message in a way that is\n",
    "appropriate for their class. It allows you to write more generic code that can work with objects of multiple classes, promoting flexibility and \n",
    "extensibility.\n",
    "\n",
    "4. **Abstraction:** Abstraction is the process of simplifying complex reality by modeling classes based on the essential characteristics of objects, \n",
    "while ignoring irrelevant details. It involves defining abstract classes and methods that serve as templates for concrete implementations. \n",
    "Abstraction helps in managing complexity and focusing on the essential aspects of a problem domain.\n",
    "\n",
    "These four pillars form the foundation of object-oriented programming and are essential for creating modular, maintainable, and reusable code.\n",
    "\n",
    "\"\"\""
   ]
  },
  {
   "cell_type": "code",
   "execution_count": null,
   "id": "aab0578a-1022-449c-8e13-aa9e3e4dfe3f",
   "metadata": {},
   "outputs": [],
   "source": []
  },
  {
   "cell_type": "code",
   "execution_count": 15,
   "id": "91ad3518-a75e-4bd1-a8e1-9ec7fce0db35",
   "metadata": {},
   "outputs": [],
   "source": [
    "# Q3. Explain why the __init__() function is used. Give a suitable example.\n",
    "\n",
    "\"\"\"\n",
    "The __init__() function is a special method in Python used to initialize the attributes (or properties) of an object when an instance of a class is \n",
    "created. It is also known as a constructor. The __init__() method is automatically called when you create an object from a class, and it allows you to\n",
    "set up the initial state of that object by assigning values to its attributes.\n",
    "\"\"\"\n",
    "\n",
    "class pwskills :\n",
    "    def __init__(self , birthdate , year):\n",
    "        self.birthdate = birthdate \n",
    "        self.year = year \n",
    "        \n",
    "    def return_details(self):\n",
    "        print(\"Your birthdate is \",self.birthdate, \" in year \",self.year)"
   ]
  },
  {
   "cell_type": "code",
   "execution_count": 16,
   "id": "ee1ed27d-abcc-47df-b793-fb5a6ba8e089",
   "metadata": {},
   "outputs": [],
   "source": [
    "yash = pwskills(13 , 2004)"
   ]
  },
  {
   "cell_type": "code",
   "execution_count": 17,
   "id": "1c8acd78-d66b-46df-8d3f-7d60ee4346c2",
   "metadata": {},
   "outputs": [
    {
     "name": "stdout",
     "output_type": "stream",
     "text": [
      "Your birthdate is  13  in year  2004\n"
     ]
    }
   ],
   "source": [
    "yash.return_details()"
   ]
  },
  {
   "cell_type": "code",
   "execution_count": null,
   "id": "a8eb251c-fa95-4800-bc34-d27152812cae",
   "metadata": {},
   "outputs": [],
   "source": []
  },
  {
   "cell_type": "code",
   "execution_count": 18,
   "id": "6839eb6d-49b5-4cce-a3ba-817be38465b8",
   "metadata": {},
   "outputs": [
    {
     "data": {
      "text/plain": [
       "\"\\nIn object-oriented programming (OOP), `self` is a convention used in Python (and in some other object-oriented languages) to refer to the instance of \\na class within its own methods. It is a reference to the object itself. When you create an object from a class and call a method on that object, you \\ndon't need to explicitly pass the object as an argument to the method. Instead, Python automatically passes the object as the first argument \\n(by convention named `self`) to the method.\\n\\nHere's why `self` is used in OOP:\\n\\n1. **Accessing Instance Variables:** Within a class method, you often need to access the instance variables (attributes) of the object to perform \\noperations or retrieve data associated with that specific instance. `self` allows you to access these instance variables.\\n\\n2. **Modifying Object State:** You use `self` to modify the state of the object. By referencing `self`, you can update the values of the object's \\nattributes, effectively changing its state.\\n\\n3. **Method Invocation:** When you call a method on an object, Python automatically passes the object itself as `self` to the method. This enables you\\nto work with the object's data and perform actions specific to that instance.\\n\\n\""
      ]
     },
     "execution_count": 18,
     "metadata": {},
     "output_type": "execute_result"
    }
   ],
   "source": [
    "#  Q4. Why self is used in OOPs?\n",
    "\"\"\"\n",
    "In object-oriented programming (OOP), `self` is a convention used in Python (and in some other object-oriented languages) to refer to the instance of \n",
    "a class within its own methods. It is a reference to the object itself. When you create an object from a class and call a method on that object, you \n",
    "don't need to explicitly pass the object as an argument to the method. Instead, Python automatically passes the object as the first argument \n",
    "(by convention named `self`) to the method.\n",
    "\n",
    "Here's why `self` is used in OOP:\n",
    "\n",
    "1. **Accessing Instance Variables:** Within a class method, you often need to access the instance variables (attributes) of the object to perform \n",
    "operations or retrieve data associated with that specific instance. `self` allows you to access these instance variables.\n",
    "\n",
    "2. **Modifying Object State:** You use `self` to modify the state of the object. By referencing `self`, you can update the values of the object's \n",
    "attributes, effectively changing its state.\n",
    "\n",
    "3. **Method Invocation:** When you call a method on an object, Python automatically passes the object itself as `self` to the method. This enables you\n",
    "to work with the object's data and perform actions specific to that instance.\n",
    "\n",
    "\"\"\""
   ]
  },
  {
   "cell_type": "code",
   "execution_count": null,
   "id": "fc64d326-4917-48ab-9f73-6eb3f00bf2e0",
   "metadata": {},
   "outputs": [],
   "source": []
  },
  {
   "cell_type": "code",
   "execution_count": null,
   "id": "4a6bd2b5-3d27-4bc3-a75a-c1e5d3a45ae8",
   "metadata": {},
   "outputs": [],
   "source": []
  }
 ],
 "metadata": {
  "kernelspec": {
   "display_name": "Python 3 (ipykernel)",
   "language": "python",
   "name": "python3"
  },
  "language_info": {
   "codemirror_mode": {
    "name": "ipython",
    "version": 3
   },
   "file_extension": ".py",
   "mimetype": "text/x-python",
   "name": "python",
   "nbconvert_exporter": "python",
   "pygments_lexer": "ipython3",
   "version": "3.10.8"
  }
 },
 "nbformat": 4,
 "nbformat_minor": 5
}
